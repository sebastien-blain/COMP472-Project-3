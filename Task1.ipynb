{
 "cells": [
  {
   "cell_type": "markdown",
   "id": "ee7ab544",
   "metadata": {},
   "source": [
    "# Task 1: Evaluation of the word2vec-google-news-300 Pre-trained Model"
   ]
  },
  {
   "cell_type": "markdown",
   "id": "2c39ebe7",
   "metadata": {},
   "source": [
    "In this first experiment, you will use the pre-trained Word2Vec model called word2vec-google-news-300 to\n",
    "compute the closest synonym for each word in the dataset. First, use gensim.downloader.load to load the\n",
    "word2vec-google-news-300 pretrained embedding model. Then use the similarity method from Gensim to\n",
    "compute the cosine similarity between 2 embeddings (2 vectors) and find the closest synonym to the question-\n",
    "word.\n",
    "The output of this task should be stored in 2 files:\n",
    "1. In a file called <model name>-details.csv, for each question in the Synonym Test dataset, in a single line:\n",
    "    * (a) the question-word, a comma,\n",
    "    * (b) the correct answer-word, a comma\n",
    "    * (c) your system’s guess-word, a comma\n",
    "    * (d) one of 3 possible labels:\n",
    "        * the label guess, if either question-word or all four guess-words (or all 5 words) were not found in\n",
    "the embedding model (so if the question-word was present in the model, and at least 1 guess-word\n",
    "was present also, you should not use this label).\n",
    "        * the label correct, if the question-word and at least 1 guess-word were present in the model, and\n",
    "the guess-word was correct.\n",
    "        * the label wrong if the question-word and at least 1 guess-word were present in the model, and the\n",
    "guess-word was not correct.\n",
    "    \n",
    "For example, the file word2vec-google-news-300-details.csv could contain:\n",
    "    \n",
    "enormously,tremendously,uniquely,wrong  \n",
    "provisions,stipulations,stipulations,correct  \n",
    "..."
   ]
  },
  {
   "cell_type": "code",
   "execution_count": 1,
   "id": "1a4494f8",
   "metadata": {},
   "outputs": [],
   "source": [
    "from gensim import downloader\n",
    "import pandas as pd"
   ]
  },
  {
   "cell_type": "code",
   "execution_count": 2,
   "id": "cc1c938e",
   "metadata": {},
   "outputs": [],
   "source": [
    "# Download the Word2Vec model\n",
    "model = downloader.load(\"word2vec-google-news-300\")"
   ]
  },
  {
   "cell_type": "code",
   "execution_count": 3,
   "id": "02e92d96",
   "metadata": {},
   "outputs": [
    {
     "name": "stdout",
     "output_type": "stream",
     "text": [
      "<bound method NDFrame.head of        question        answer              0               1              2  \\\n",
      "0    enormously  tremendously  appropriately        uniquely   tremendously   \n",
      "1    provisions  stipulations   stipulations  interrelations  jurisdictions   \n",
      "2   haphazardly      randomly    dangerously         densely       randomly   \n",
      "3     prominent   conspicuous       battered         ancient     mysterious   \n",
      "4        zenith      pinnacle     completion        pinnacle         outset   \n",
      "..          ...           ...            ...             ...            ...   \n",
      "75      fashion        manner         ration          fathom          craze   \n",
      "76     marketed          sold         frozen            sold      sweetened   \n",
      "77       bigger        larger       steadier          closer         larger   \n",
      "78        roots       origins        origins         rituals           cure   \n",
      "79     normally    ordinarily      haltingly      ordinarily    permanently   \n",
      "\n",
      "                  3  \n",
      "0         decidedly  \n",
      "1   interpretations  \n",
      "2          linearly  \n",
      "3       conspicuous  \n",
      "4           decline  \n",
      "..              ...  \n",
      "75           manner  \n",
      "76          diluted  \n",
      "77           better  \n",
      "78         function  \n",
      "79     periodically  \n",
      "\n",
      "[80 rows x 6 columns]>\n"
     ]
    }
   ],
   "source": [
    "# Load the file\n",
    "df = pd.read_csv('synonyms.csv')\n",
    "print(df.head)"
   ]
  },
  {
   "cell_type": "code",
   "execution_count": 6,
   "id": "1f1c0191",
   "metadata": {},
   "outputs": [],
   "source": [
    "# Create the output file\n",
    "fs = open('word2vec-google-news-300-details.csv', 'w')\n",
    "fs.write('question,answer,guess,label\\n')\n",
    "fs.close()"
   ]
  },
  {
   "cell_type": "code",
   "execution_count": 7,
   "id": "f96f0191",
   "metadata": {},
   "outputs": [],
   "source": [
    "fs = open('word2vec-google-news-300-details.csv', 'a')\n",
    "\n",
    "CORRECT_LABEL = 0\n",
    "ANSWERED_QUESTIONS = 0\n",
    "\n",
    "for _, row in df.iterrows():\n",
    "    question = row['question']\n",
    "    answer = row['answer']\n",
    "    guesses = [row['0'], row['1'], row['2'], row['3']]\n",
    "    best_guess = (0, '')\n",
    "    for guess in guesses:\n",
    "        try:\n",
    "            sim = model.similarity(question, guess)\n",
    "            # Check if the similarity is greater than the current best guess\n",
    "            if sim > best_guess[0]:\n",
    "                best_guess = (sim, guess)\n",
    "        except Exception as e:\n",
    "            # Could be because bhe question isn't in the model\n",
    "            pass\n",
    "        \n",
    "    if best_guess[1] != '':\n",
    "        ANSWERED_QUESTIONS += 1\n",
    "        # If the guess is correct\n",
    "        if best_guess[1] == answer:\n",
    "            label = 'correct'\n",
    "            CORRECT_LABEL += 1\n",
    "        # If the guess is wrong\n",
    "        else:\n",
    "            label = 'wrong'\n",
    "    else:\n",
    "        label = 'guess'\n",
    "            \n",
    "    \n",
    "    fs.write(','.join([question, answer, best_guess[1], label]) + '\\n')\n",
    "                    \n",
    "fs.close()"
   ]
  },
  {
   "cell_type": "code",
   "execution_count": 8,
   "id": "33d3ae70",
   "metadata": {},
   "outputs": [],
   "source": [
    "fs = open('analysis.csv', 'w')\n",
    "\n",
    "model_name = 'word2vec-google-news-300'\n",
    "size_of_vocabulary = len(model)\n",
    "correct_label = CORRECT_LABEL\n",
    "answered_questions = ANSWERED_QUESTIONS\n",
    "accuracy = correct_label / answered_questions\n",
    "\n",
    "# Write the analysis to file: model_name, size of voc, correct label, answered questions, accuracy\n",
    "fs.write(','.join([model_name, str(size_of_vocabulary), str(correct_label), str(answered_questions), str(accuracy)]))\n",
    "\n",
    "fs.close()"
   ]
  }
 ],
 "metadata": {
  "kernelspec": {
   "display_name": "Python 3 (ipykernel)",
   "language": "python",
   "name": "python3"
  },
  "language_info": {
   "codemirror_mode": {
    "name": "ipython",
    "version": 3
   },
   "file_extension": ".py",
   "mimetype": "text/x-python",
   "name": "python",
   "nbconvert_exporter": "python",
   "pygments_lexer": "ipython3",
   "version": "3.9.5"
  }
 },
 "nbformat": 4,
 "nbformat_minor": 5
}
